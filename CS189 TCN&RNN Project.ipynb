{
 "cells": [
  {
   "cell_type": "code",
   "execution_count": 3,
   "metadata": {
    "collapsed": true
   },
   "outputs": [],
   "source": [
    "import numpy as np"
   ]
  },
  {
   "cell_type": "code",
   "execution_count": 21,
   "metadata": {
    "collapsed": true
   },
   "outputs": [],
   "source": [
    "def fibonacci(n):\n",
    "    return [((1+np.sqrt(5))**i-(1-np.sqrt(5))**i)/(2**i*np.sqrt(5)) for i in range(0,n)]\n",
    "def noisy_ones(n,mu=0.1,sigma=0.05):\n",
    "    # generates length n array of 1's with noise N(mu,sigma)\n",
    "    # returns state, noisy observations\n",
    "    return [1 for i in range(0,n)],[1+np.random.normal(mu,sigma) for i in range(0,n)]"
   ]
  },
  {
   "cell_type": "code",
   "execution_count": 23,
   "metadata": {},
   "outputs": [
    {
     "data": {
      "text/plain": [
       "[1.0520803617214827,\n",
       " 1.1429666581311984,\n",
       " 1.0795087767263738,\n",
       " 1.0012488918525557,\n",
       " 1.1516131819296973]"
      ]
     },
     "execution_count": 23,
     "metadata": {},
     "output_type": "execute_result"
    }
   ],
   "source": [
    "noisy_ones(5)"
   ]
  },
  {
   "cell_type": "code",
   "execution_count": null,
   "metadata": {
    "collapsed": true
   },
   "outputs": [],
   "source": []
  }
 ],
 "metadata": {
  "kernelspec": {
   "display_name": "Python 3",
   "language": "python",
   "name": "python3"
  },
  "language_info": {
   "codemirror_mode": {
    "name": "ipython",
    "version": 3
   },
   "file_extension": ".py",
   "mimetype": "text/x-python",
   "name": "python",
   "nbconvert_exporter": "python",
   "pygments_lexer": "ipython3",
   "version": "3.6.1"
  }
 },
 "nbformat": 4,
 "nbformat_minor": 2
}
